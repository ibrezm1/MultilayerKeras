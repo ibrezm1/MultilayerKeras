{
  "nbformat": 4,
  "nbformat_minor": 0,
  "metadata": {
    "kernelspec": {
      "display_name": "Python 3",
      "language": "python",
      "name": "python3"
    },
    "language_info": {
      "codemirror_mode": {
        "name": "ipython",
        "version": 3
      },
      "file_extension": ".py",
      "mimetype": "text/x-python",
      "name": "python",
      "nbconvert_exporter": "python",
      "pygments_lexer": "ipython3",
      "version": "3.7.3"
    },
    "colab": {
      "name": "autofeat_benchmark_classification.ipynb",
      "provenance": []
    }
  },
  "cells": [
    {
      "cell_type": "code",
      "metadata": {
        "id": "LUlqzSYQ_Pqb",
        "colab_type": "code",
        "colab": {}
      },
      "source": [
        "import os\n",
        "import sys\n",
        "import warnings\n",
        "import matplotlib.pyplot as plt\n",
        "import numpy as np\n",
        "import pandas as pd\n",
        "from sklearn.datasets import load_iris, load_wine, load_breast_cancer\n",
        "from sklearn.model_selection import train_test_split, GridSearchCV\n",
        "from sklearn.metrics import accuracy_score\n",
        "from sklearn.preprocessing import StandardScaler\n",
        "from sklearn.linear_model import LogisticRegression\n",
        "from sklearn.svm import SVC\n",
        "from sklearn.ensemble import RandomForestClassifier\n",
        "\n",
        "from autofeat import AutoFeatClassifier\n",
        "\n",
        "%matplotlib inline\n",
        "%load_ext autoreload\n",
        "%autoreload 2"
      ],
      "execution_count": 0,
      "outputs": []
    },
    {
      "cell_type": "code",
      "metadata": {
        "id": "zM5d3VTQ_Pqj",
        "colab_type": "code",
        "colab": {}
      },
      "source": [
        "datasets = [\"iris\", \"wine\", \"breast_cancer\"]\n",
        "\n",
        "# same interface for loading all datasets\n",
        "def load_classification_dataset(name):\n",
        "    # load one of the datasets as X and y\n",
        "    units = {}\n",
        "    if name == \"iris\":\n",
        "        # sklearn iris housing dataset\n",
        "        X, y = load_iris(True)\n",
        "\n",
        "    elif name == \"wine\":\n",
        "        # sklearn wine dataset\n",
        "        X, y = load_wine(True)\n",
        "    \n",
        "    elif name == \"breast_cancer\":\n",
        "        # sklearn breast_cancer dataset\n",
        "        X, y = load_breast_cancer(True)\n",
        "\n",
        "    else:\n",
        "        raise RuntimeError(\"Unknown dataset %r\" % name)\n",
        "    return np.array(X, dtype=float), np.array(y, dtype=float), units\n",
        "\n",
        "def test_model(dataset, model, param_grid):\n",
        "    # load data\n",
        "    X, y, _ = load_classification_dataset(dataset)\n",
        "    # split in training and test parts\n",
        "    X_train, X_test, y_train, y_test = train_test_split(X, y, test_size=0.2, random_state=12)\n",
        "    if model.__class__.__name__ == \"SVC\":\n",
        "        sscaler = StandardScaler()\n",
        "        X_train = sscaler.fit_transform(X_train)\n",
        "        X_test = sscaler.transform(X_test)\n",
        "    # train model on train split incl cross-validation for parameter selection\n",
        "    with warnings.catch_warnings():\n",
        "        warnings.simplefilter(\"ignore\")\n",
        "        gsmodel = GridSearchCV(model, param_grid, cv=5)\n",
        "        gsmodel.fit(X_train, y_train)\n",
        "    print(\"best params:\", gsmodel.best_params_)\n",
        "    print(\"best score:\", gsmodel.best_score_)\n",
        "    print(\"Acc. on training data:\", accuracy_score(y_train, gsmodel.predict(X_train)))\n",
        "    print(\"Acc. on test data:\", accuracy_score(y_test, gsmodel.predict(X_test)))\n",
        "    return gsmodel.best_estimator_\n",
        "\n",
        "def test_autofeat(dataset, feateng_steps=2):\n",
        "    # load data\n",
        "    X, y, units = load_classification_dataset(dataset)\n",
        "    # split in training and test parts\n",
        "    X_train, X_test, y_train, y_test = train_test_split(X, y, test_size=0.2, random_state=12)\n",
        "    # run autofeat\n",
        "    afreg = AutoFeatClassifier(verbose=1, feateng_steps=feateng_steps, units=units)\n",
        "    # fit autofeat on less data, otherwise ridge reg model with xval will overfit on new features\n",
        "    X_train_tr = afreg.fit_transform(X_train, y_train)\n",
        "    X_test_tr = afreg.transform(X_test)\n",
        "    print(\"autofeat new features:\", len(afreg.new_feat_cols_))\n",
        "    print(\"autofeat Acc. on training data:\", accuracy_score(y_train, afreg.predict(X_train_tr)))\n",
        "    print(\"autofeat Acc. on test data:\", accuracy_score(y_test, afreg.predict(X_test_tr)))\n",
        "    # train rreg on transformed train split incl cross-validation for parameter selection\n",
        "    print(\"# Logistic Regression\")\n",
        "    rreg = LogisticRegression(class_weight=\"balanced\")\n",
        "    param_grid = {\"C\": np.logspace(-4, 4, 10)}\n",
        "    with warnings.catch_warnings():\n",
        "        warnings.simplefilter(\"ignore\")\n",
        "        gsmodel = GridSearchCV(rreg, param_grid, cv=5)\n",
        "        gsmodel.fit(X_train_tr, y_train)\n",
        "    print(\"best params:\", gsmodel.best_params_)\n",
        "    print(\"best score:\", gsmodel.best_score_)\n",
        "    print(\"Acc. on training data:\", accuracy_score(y_train, gsmodel.predict(X_train_tr)))\n",
        "    print(\"Acc. on test data:\", accuracy_score(y_test, gsmodel.predict(X_test_tr)))\n",
        "    print(\"# Random Forest\")\n",
        "    rforest = RandomForestClassifier(n_estimators=100, random_state=13)\n",
        "    param_grid = {\"min_samples_leaf\": [0.0001, 0.001, 0.01, 0.05, 0.1, 0.2]}\n",
        "    gsmodel = GridSearchCV(rforest, param_grid, cv=5)\n",
        "    gsmodel.fit(X_train_tr, y_train)\n",
        "    print(\"best params:\", gsmodel.best_params_)\n",
        "    print(\"best score:\", gsmodel.best_score_)\n",
        "    print(\"Acc. on training data:\", accuracy_score(y_train, gsmodel.predict(X_train_tr)))\n",
        "    print(\"Acc. on test data:\", accuracy_score(y_test, gsmodel.predict(X_test_tr)))"
      ],
      "execution_count": 0,
      "outputs": []
    },
    {
      "cell_type": "code",
      "metadata": {
        "id": "Iu2Z4qHK_Pqn",
        "colab_type": "code",
        "colab": {},
        "outputId": "27c83cc3-22ed-4fe4-f2ab-77d3e65350c4"
      },
      "source": [
        "for dsname in datasets:\n",
        "    print(\"####\", dsname)\n",
        "    X, y, _ = load_classification_dataset(dsname)\n",
        "    print(X.shape, np.unique(y))"
      ],
      "execution_count": 0,
      "outputs": [
        {
          "output_type": "stream",
          "text": [
            "#### iris\n",
            "(150, 4) [0. 1. 2.]\n",
            "#### wine\n",
            "(178, 13) [0. 1. 2.]\n",
            "#### breast_cancer\n",
            "(569, 30) [0. 1.]\n"
          ],
          "name": "stdout"
        }
      ]
    },
    {
      "cell_type": "code",
      "metadata": {
        "id": "bPptykWb_Pqv",
        "colab_type": "code",
        "colab": {},
        "outputId": "44ffecab-dde4-493a-8b1e-41170cac06d6"
      },
      "source": [
        "for dsname in datasets:\n",
        "    print(\"####\", dsname)\n",
        "    rreg = LogisticRegression(class_weight=\"balanced\")\n",
        "    params = {\"C\": np.logspace(-4, 4, 10)}\n",
        "    rreg = test_model(dsname, rreg, params)"
      ],
      "execution_count": 0,
      "outputs": [
        {
          "output_type": "stream",
          "text": [
            "#### iris\n",
            "best params: {'C': 0.3593813663804626}\n",
            "best score: 0.9666666666666666\n",
            "Acc. on training data: 0.9666666666666667\n",
            "Acc. on test data: 0.9666666666666667\n",
            "#### wine\n",
            "best params: {'C': 0.3593813663804626}\n",
            "best score: 0.9364532019704435\n",
            "Acc. on training data: 0.9507042253521126\n",
            "Acc. on test data: 0.9444444444444444\n",
            "#### breast_cancer\n",
            "best params: {'C': 2.782559402207126}\n",
            "best score: 0.9494505494505494\n",
            "Acc. on training data: 0.9472527472527472\n",
            "Acc. on test data: 0.9473684210526315\n"
          ],
          "name": "stdout"
        }
      ]
    },
    {
      "cell_type": "code",
      "metadata": {
        "id": "gdEYKkQp_Pq0",
        "colab_type": "code",
        "colab": {},
        "outputId": "fd68f5bb-72cb-4a95-e662-c9134eedcda5"
      },
      "source": [
        "for dsname in datasets:\n",
        "    print(\"####\", dsname)\n",
        "    svc = SVC(gamma=\"scale\", class_weight=\"balanced\")\n",
        "    params = {\"C\": [1., 10., 25., 50., 100., 250.]}\n",
        "    svc = test_model(dsname, svc, params)"
      ],
      "execution_count": 0,
      "outputs": [
        {
          "output_type": "stream",
          "text": [
            "#### iris\n",
            "best params: {'C': 10.0}\n",
            "best score: 0.975\n",
            "Acc. on training data: 0.9916666666666667\n",
            "Acc. on test data: 0.9666666666666667\n",
            "#### wine\n",
            "best params: {'C': 10.0}\n",
            "best score: 0.9785714285714286\n",
            "Acc. on training data: 1.0\n",
            "Acc. on test data: 0.9722222222222222\n",
            "#### breast_cancer\n",
            "best params: {'C': 1.0}\n",
            "best score: 0.9758241758241759\n",
            "Acc. on training data: 0.989010989010989\n",
            "Acc. on test data: 0.9649122807017544\n"
          ],
          "name": "stdout"
        }
      ]
    },
    {
      "cell_type": "code",
      "metadata": {
        "id": "2naz_AwD_Pq4",
        "colab_type": "code",
        "colab": {},
        "outputId": "f44033a2-461b-4731-ab13-7eaca88faeae"
      },
      "source": [
        "for dsname in datasets:\n",
        "    print(\"####\", dsname)\n",
        "    rforest = RandomForestClassifier(n_estimators=100, random_state=13)\n",
        "    params = {\"min_samples_leaf\": [0.0001, 0.001, 0.01, 0.05, 0.1, 0.2]}\n",
        "    rforest = test_model(dsname, rforest, params)"
      ],
      "execution_count": 0,
      "outputs": [
        {
          "output_type": "stream",
          "text": [
            "#### iris\n",
            "best params: {'min_samples_leaf': 0.2}\n",
            "best score: 0.9666666666666668\n",
            "Acc. on training data: 0.9666666666666667\n",
            "Acc. on test data: 0.9333333333333333\n",
            "#### wine\n",
            "best params: {'min_samples_leaf': 0.0001}\n",
            "best score: 0.9859605911330049\n",
            "Acc. on training data: 1.0\n",
            "Acc. on test data: 0.9722222222222222\n",
            "#### breast_cancer\n",
            "best params: {'min_samples_leaf': 0.0001}\n",
            "best score: 0.9582417582417582\n",
            "Acc. on training data: 1.0\n",
            "Acc. on test data: 0.9385964912280702\n"
          ],
          "name": "stdout"
        }
      ]
    },
    {
      "cell_type": "code",
      "metadata": {
        "id": "RFFwUzz-_Pq9",
        "colab_type": "code",
        "colab": {},
        "outputId": "b20ac98f-6bd8-4ec8-fca5-8d4f3f39a1b0"
      },
      "source": [
        "for dsname in datasets:\n",
        "    print(\"####\", dsname)\n",
        "    test_autofeat(dsname, feateng_steps=1)"
      ],
      "execution_count": 0,
      "outputs": [
        {
          "output_type": "stream",
          "text": [
            "#### iris\n",
            "[AutoFeat] The 1 step feature engineering process could generate up to 28 features.\n",
            "[AutoFeat] With 120 data points this new feature matrix would use about 0.00 gb of space.\n",
            "[feateng] Step 1: transformation of original features\n",
            "[feateng] Generated 24 transformed features from 4 original features - done.\n",
            "[feateng] Removing correlated features, as well as additions at the highest level\n",
            "[feateng] Generated a total of 8 additional features\n",
            "[featsel] Scaling data...done.\n",
            "[featsel] Feature selection run 1/5\n",
            "[featsel] Feature selection run 2/5\n",
            "[featsel] Feature selection run 3/5\n",
            "[featsel] Feature selection run 4/5\n",
            "[featsel] Feature selection run 5/5\n",
            "[featsel] 6 features after 5 feature selection runs\n",
            "[featsel] 3 features after noise filtering\n",
            "[AutoFeat] Computing 2 new features.\n",
            "[AutoFeat]     2/    2 new features ...done.\n",
            "[AutoFeat] Final dataframe with 6 feature columns (2 new).\n",
            "[AutoFeat] Training final classification model.\n",
            "[AutoFeat] Trained model: largest coefficients:\n",
            "[ 0.25079621  0.19851861 -0.44931482]\n",
            "0.094313 * x003**3\n",
            "0.064204 * 1/x003\n",
            "0.048564 * x002\n",
            "[AutoFeat] Final score: 0.9583\n",
            "[AutoFeat] Computing 2 new features.\n",
            "[AutoFeat]     2/    2 new features ...done.\n",
            "autofeat new features: 2\n",
            "autofeat Acc. on training data: 0.9583333333333334\n",
            "autofeat Acc. on test data: 0.9666666666666667\n",
            "# Logistic Regression\n",
            "best params: {'C': 0.000774263682681127}\n",
            "best score: 0.9583333333333334\n",
            "Acc. on training data: 0.9583333333333334\n",
            "Acc. on test data: 0.9666666666666667\n",
            "# Random Forest\n",
            "best params: {'min_samples_leaf': 0.2}\n",
            "best score: 0.9416666666666668\n",
            "Acc. on training data: 0.9583333333333334\n",
            "Acc. on test data: 0.9666666666666667\n",
            "#### wine\n",
            "[AutoFeat] The 1 step feature engineering process could generate up to 91 features.\n",
            "[AutoFeat] With 142 data points this new feature matrix would use about 0.00 gb of space.\n",
            "[feateng] Step 1: transformation of original features\n",
            "[feateng] Generated 73 transformed features from 13 original features - done.\n",
            "[feateng] Removing correlated features, as well as additions at the highest level\n",
            "[feateng] Generated a total of 17 additional features\n",
            "[featsel] Scaling data...done.\n",
            "[featsel] Feature selection run 1/5\n",
            "[featsel] Feature selection run 2/5\n",
            "[featsel] Feature selection run 3/5\n",
            "[featsel] Feature selection run 4/5\n",
            "[featsel] Feature selection run 5/5\n",
            "[featsel] 11 features after 5 feature selection runs\n",
            "[featsel] 9 features after noise filtering\n",
            "[AutoFeat] Computing 3 new features.\n",
            "[AutoFeat]     3/    3 new features ...done.\n",
            "[AutoFeat] Final dataframe with 16 feature columns (3 new).\n",
            "[AutoFeat] Training final classification model.\n",
            "[AutoFeat] Trained model: largest coefficients:\n",
            "[-9.16349162  7.85458768  1.30890394]\n",
            "4.070551 * x011\n",
            "3.671318 * 1/x001\n",
            "3.338675 * 1/x006\n",
            "2.888978 * x002\n",
            "2.794589 * x010\n",
            "2.267688 * 1/x009\n",
            "0.661390 * x000\n",
            "0.547621 * x003\n",
            "0.008585 * x012\n",
            "[AutoFeat] Final score: 1.0000\n",
            "[AutoFeat] Computing 3 new features.\n",
            "[AutoFeat]     3/    3 new features ...done.\n",
            "autofeat new features: 3\n",
            "autofeat Acc. on training data: 1.0\n",
            "autofeat Acc. on test data: 0.9722222222222222\n",
            "# Logistic Regression\n",
            "best params: {'C': 0.3593813663804626}\n",
            "best score: 0.9295566502463053\n",
            "Acc. on training data: 0.9507042253521126\n",
            "Acc. on test data: 0.9722222222222222\n",
            "# Random Forest\n",
            "best params: {'min_samples_leaf': 0.0001}\n",
            "best score: 0.9859605911330049\n",
            "Acc. on training data: 1.0\n",
            "Acc. on test data: 0.9722222222222222\n",
            "#### breast_cancer\n",
            "[AutoFeat] The 1 step feature engineering process could generate up to 210 features.\n",
            "[AutoFeat] With 455 data points this new feature matrix would use about 0.00 gb of space.\n",
            "[feateng] Step 1: transformation of original features\n",
            "[feateng] Generated 155 transformed features from 30 original features - done.\n",
            "[feateng] Removing correlated features, as well as additions at the highest level\n",
            "[feateng] Generated a total of 62 additional features\n",
            "[featsel] Scaling data...done.\n",
            "[featsel] Feature selection run 1/5\n",
            "[featsel] Feature selection run 2/5\n",
            "[featsel] Feature selection run 3/5\n",
            "[featsel] Feature selection run 4/5\n",
            "[featsel] Feature selection run 5/5\n",
            "[featsel] 14 features after 5 feature selection runs\n",
            "[featsel] 12 features after noise filtering\n",
            "[AutoFeat] Computing 3 new features.\n",
            "[AutoFeat]     3/    3 new features ...done.\n",
            "[AutoFeat] Final dataframe with 33 feature columns (3 new).\n",
            "[AutoFeat] Training final classification model.\n",
            "[AutoFeat] Trained model: largest coefficients:\n",
            "[73.22838364]\n",
            "57.978569 * x027\n",
            "53.506179 * x007\n",
            "49.848278 * x024\n",
            "24.813824 * x028\n",
            "8.775348 * x010\n",
            "8.474678 * 1/x013\n",
            "1.786649 * x020\n",
            "0.457960 * x001\n",
            "0.209471 * 1/x023\n",
            "0.136064 * x021\n",
            "0.098265 * 1/x018\n",
            "0.007512 * x022\n",
            "[AutoFeat] Final score: 0.9802\n",
            "[AutoFeat] Computing 3 new features.\n",
            "[AutoFeat]     3/    3 new features ...done.\n",
            "autofeat new features: 3\n",
            "autofeat Acc. on training data: 0.9802197802197802\n",
            "autofeat Acc. on test data: 0.9824561403508771\n",
            "# Logistic Regression\n",
            "best params: {'C': 10000.0}\n",
            "best score: 0.9494505494505494\n",
            "Acc. on training data: 0.9472527472527472\n",
            "Acc. on test data: 0.9385964912280702\n",
            "# Random Forest\n",
            "best params: {'min_samples_leaf': 0.0001}\n",
            "best score: 0.9604395604395604\n",
            "Acc. on training data: 1.0\n",
            "Acc. on test data: 0.9473684210526315\n"
          ],
          "name": "stdout"
        }
      ]
    },
    {
      "cell_type": "code",
      "metadata": {
        "id": "D2fiUY-R_PrC",
        "colab_type": "code",
        "colab": {}
      },
      "source": [
        ""
      ],
      "execution_count": 0,
      "outputs": []
    }
  ]
}