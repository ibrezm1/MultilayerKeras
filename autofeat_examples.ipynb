{
  "nbformat": 4,
  "nbformat_minor": 0,
  "metadata": {
    "kernelspec": {
      "display_name": "Python 3",
      "language": "python",
      "name": "python3"
    },
    "language_info": {
      "codemirror_mode": {
        "name": "ipython",
        "version": 3
      },
      "file_extension": ".py",
      "mimetype": "text/x-python",
      "name": "python",
      "nbconvert_exporter": "python",
      "pygments_lexer": "ipython3",
      "version": "3.7.3"
    },
    "colab": {
      "name": "autofeat_examples.ipynb",
      "provenance": []
    }
  },
  "cells": [
    {
      "cell_type": "code",
      "metadata": {
        "id": "2WnCGxQM44Vy",
        "colab_type": "code",
        "colab": {
          "base_uri": "https://localhost:8080/",
          "height": 371
        },
        "outputId": "f2c76fa2-3884-4f20-a1d9-f26188b1b470"
      },
      "source": [
        "!pip install autofeat"
      ],
      "execution_count": 2,
      "outputs": [
        {
          "output_type": "stream",
          "text": [
            "Collecting autofeat\n",
            "  Downloading https://files.pythonhosted.org/packages/1b/c3/125f1acf2b9c0d8bbb8807478621a7543a7d059668e55c78f9c2d21f62cc/autofeat-1.1.2-py3-none-any.whl\n",
            "Requirement already satisfied: pandas>=0.24.0 in /usr/local/lib/python3.6/dist-packages (from autofeat) (0.25.3)\n",
            "Requirement already satisfied: joblib in /usr/local/lib/python3.6/dist-packages (from autofeat) (0.14.1)\n",
            "Requirement already satisfied: numpy in /usr/local/lib/python3.6/dist-packages (from autofeat) (1.17.5)\n",
            "Requirement already satisfied: scikit-learn in /usr/local/lib/python3.6/dist-packages (from autofeat) (0.22.1)\n",
            "Requirement already satisfied: future in /usr/local/lib/python3.6/dist-packages (from autofeat) (0.16.0)\n",
            "Requirement already satisfied: sympy in /usr/local/lib/python3.6/dist-packages (from autofeat) (1.1.1)\n",
            "Collecting pint\n",
            "\u001b[?25l  Downloading https://files.pythonhosted.org/packages/9d/db/7a2204b03c22069839958df5723eb2718d50c33052e0da84c9a83de14ea4/Pint-0.11-py2.py3-none-any.whl (186kB)\n",
            "\u001b[K     |████████████████████████████████| 194kB 3.9MB/s \n",
            "\u001b[?25hRequirement already satisfied: python-dateutil>=2.6.1 in /usr/local/lib/python3.6/dist-packages (from pandas>=0.24.0->autofeat) (2.6.1)\n",
            "Requirement already satisfied: pytz>=2017.2 in /usr/local/lib/python3.6/dist-packages (from pandas>=0.24.0->autofeat) (2018.9)\n",
            "Requirement already satisfied: scipy>=0.17.0 in /usr/local/lib/python3.6/dist-packages (from scikit-learn->autofeat) (1.4.1)\n",
            "Requirement already satisfied: mpmath>=0.19 in /usr/local/lib/python3.6/dist-packages (from sympy->autofeat) (1.1.0)\n",
            "Requirement already satisfied: setuptools in /usr/local/lib/python3.6/dist-packages (from pint->autofeat) (45.2.0)\n",
            "Requirement already satisfied: six>=1.5 in /usr/local/lib/python3.6/dist-packages (from python-dateutil>=2.6.1->pandas>=0.24.0->autofeat) (1.12.0)\n",
            "Installing collected packages: pint, autofeat\n",
            "Successfully installed autofeat-1.1.2 pint-0.11\n"
          ],
          "name": "stdout"
        }
      ]
    },
    {
      "cell_type": "code",
      "metadata": {
        "id": "1GzXAT294uhZ",
        "colab_type": "code",
        "colab": {}
      },
      "source": [
        "import numpy as np\n",
        "import pandas as pd\n",
        "import matplotlib.pyplot as plt\n",
        "\n",
        "from autofeat import FeatureSelector, AutoFeatRegressor\n",
        "\n",
        "%matplotlib inline\n",
        "%load_ext autoreload\n",
        "%autoreload 2"
      ],
      "execution_count": 0,
      "outputs": []
    },
    {
      "cell_type": "markdown",
      "metadata": {
        "id": "UeO1LkYB4uhm",
        "colab_type": "text"
      },
      "source": [
        "## Feature Selection"
      ]
    },
    {
      "cell_type": "code",
      "metadata": {
        "id": "25rZh6fo4uho",
        "colab_type": "code",
        "colab": {
          "base_uri": "https://localhost:8080/",
          "height": 193
        },
        "outputId": "a16788ba-688a-4fc8-b8d4-5a0009a60695"
      },
      "source": [
        "# generate some toy data\n",
        "np.random.seed(10)\n",
        "x1 = np.random.rand(1000)\n",
        "x2 = np.random.randn(1000)\n",
        "x3 = np.random.rand(1000)\n",
        "x4 = np.random.randn(1000)\n",
        "x5 = np.random.rand(1000)\n",
        "target = 2 + 15*x1 + 3/(x2 - 1/x3) + 5*(x2 + np.log(x1))**3\n",
        "X = np.vstack([x1, x2, x3, x4, x5, 1/(x2 - 1/x3), (x2 + np.log(x1))**3]).T\n",
        "fsel = FeatureSelector(verbose=1)\n",
        "new_X = fsel.fit_transform(pd.DataFrame(X, columns=[\"x1\", \"x2\", \"x3\", \"x4\", \"x5\", \"eng6\", \"eng7\"]), target)\n",
        "# should contain [\"x1\", \"eng6\", \"eng7\"]\n",
        "print(new_X.columns)"
      ],
      "execution_count": 4,
      "outputs": [
        {
          "output_type": "stream",
          "text": [
            "[featsel] Scaling data...done.\n",
            "[featsel] Feature selection run 1/5\n",
            "[featsel] Feature selection run 2/5\n",
            "[featsel] Feature selection run 3/5\n",
            "[featsel] Feature selection run 4/5\n",
            "[featsel] Feature selection run 5/5\n",
            "[featsel] 3 features after 5 feature selection runs\n",
            "[featsel] 3 features after correlation filtering\n",
            "[featsel] 3 features after noise filtering\n",
            "Index(['x1', 'eng7', 'eng6'], dtype='object')\n"
          ],
          "name": "stdout"
        }
      ]
    },
    {
      "cell_type": "markdown",
      "metadata": {
        "id": "9ItaUtPl4uhv",
        "colab_type": "text"
      },
      "source": [
        "## AutoFeat"
      ]
    },
    {
      "cell_type": "code",
      "metadata": {
        "id": "10r2N6-54uhx",
        "colab_type": "code",
        "colab": {}
      },
      "source": [
        "# generate some toy data\n",
        "np.random.seed(10)\n",
        "x1 = np.random.rand(1000)\n",
        "x2 = np.random.randn(1000)\n",
        "x3 = np.random.rand(1000)\n",
        "target = 2 + 15*x1 + 3/(x2 - 1/x3) + 5*(x2 + np.log(x1))**3\n",
        "target_noisy = target + 0.01*target.std()*np.random.randn(1000)\n",
        "target_very_noisy = target + 0.1*target.std()*np.random.randn(1000)\n",
        "X = np.vstack([x1, x2, x3]).T\n",
        "df_org = pd.DataFrame(X, columns=[\"x1\", \"x2\", \"x3\"])"
      ],
      "execution_count": 0,
      "outputs": []
    },
    {
      "cell_type": "markdown",
      "metadata": {
        "id": "1073BrbT4uh1",
        "colab_type": "text"
      },
      "source": [
        "### Effect of number of feature engineering steps"
      ]
    },
    {
      "cell_type": "code",
      "metadata": {
        "id": "w1n96KMw4uh3",
        "colab_type": "code",
        "colab": {
          "base_uri": "https://localhost:8080/",
          "height": 1000
        },
        "outputId": "1d362bf2-e19b-4565-f8a3-1f504642061b"
      },
      "source": [
        "# autofeat with different number of feature engineering steps\n",
        "# 3 are perfect\n",
        "for steps in range(5):\n",
        "    np.random.seed(55)\n",
        "    print(\"### AutoFeat with %i feateng_steps\" % steps)\n",
        "    afreg = AutoFeatRegressor(verbose=1, feateng_steps=steps)\n",
        "    df = afreg.fit_transform(df_org, target)\n",
        "    r2 = afreg.score(df_org, target)\n",
        "    print(\"## Final R^2: %.4f\" % r2)\n",
        "    plt.figure()\n",
        "    plt.scatter(afreg.predict(df_org), target, s=2);\n",
        "    plt.title(\"%i FE steps (R^2: %.4f; %i new features)\" % (steps, r2, len(afreg.new_feat_cols_)))"
      ],
      "execution_count": 0,
      "outputs": [
        {
          "output_type": "stream",
          "text": [
            "### AutoFeat with 0 feateng_steps\n",
            "[AutoFeat] The 0 step feature engineering process could generate up to 3 features.\n",
            "[AutoFeat] With 1000 data points this new feature matrix would use about 0.00 gb of space.\n",
            "[feateng] Warning: no features generated for max_steps < 1.\n",
            "[featsel] Scaling data...done.\n",
            "[featsel] Feature selection run 1/5\n",
            "[featsel] Feature selection run 2/5\n",
            "[featsel] Feature selection run 3/5\n",
            "[featsel] Feature selection run 4/5\n",
            "[featsel] Feature selection run 5/5\n",
            "[featsel] 2 features after 5 feature selection runs\n",
            "[featsel] 2 features after correlation filtering\n",
            "[featsel] 2 features after noise filtering\n",
            "[AutoFeat] Final dataframe with 3 feature columns (0 new).\n",
            "[AutoFeat] Training final regression model.\n",
            "[AutoFeat] Trained model: largest coefficients:\n",
            "-144.52306261659768\n",
            "214.075392 * x1\n",
            "41.431441 * x2\n",
            "[AutoFeat] Final score: 0.3310\n",
            "## Final R^2: 0.3310\n",
            "### AutoFeat with 1 feateng_steps\n",
            "[AutoFeat] The 1 step feature engineering process could generate up to 21 features.\n",
            "[AutoFeat] With 1000 data points this new feature matrix would use about 0.00 gb of space.\n",
            "[feateng] Step 1: transformation of original features\n",
            "[feateng] Generated 17 transformed features from 3 original features - done.\n",
            "[feateng] Generated altogether 17 new features in 1 steps\n",
            "[feateng] Removing correlated features, as well as additions at the highest level\n",
            "[feateng] Generated a total of 11 additional features\n",
            "[featsel] Scaling data...done.\n",
            "[featsel] Feature selection run 1/5\n",
            "[featsel] Feature selection run 2/5\n",
            "[featsel] Feature selection run 3/5\n",
            "[featsel] Feature selection run 4/5\n",
            "[featsel] Feature selection run 5/5\n",
            "[featsel] 8 features after 5 feature selection runs\n",
            "[featsel] 7 features after correlation filtering\n",
            "[featsel] 6 features after noise filtering\n",
            "[AutoFeat] Computing 4 new features.\n",
            "[AutoFeat]     4/    4 new features ...done.\n",
            "[AutoFeat] Final dataframe with 7 feature columns (4 new).\n",
            "[AutoFeat] Training final regression model.\n",
            "[AutoFeat] Trained model: largest coefficients:\n",
            "190.72086624182884\n",
            "-178.228019 * x1\n",
            "114.776594 * log(x1)\n",
            "31.965770 * x2\n",
            "-15.069689 * x2**2\n",
            "3.813893 * x2**3\n",
            "-1.104899 * 1/x1\n",
            "[AutoFeat] Final score: 0.7509\n",
            "[AutoFeat] Computing 4 new features.\n",
            "[AutoFeat]     4/    4 new features ...done.\n",
            "## Final R^2: 0.7509\n",
            "[AutoFeat] Computing 4 new features.\n",
            "[AutoFeat]     4/    4 new features ...done.\n",
            "### AutoFeat with 2 feateng_steps\n",
            "[AutoFeat] The 2 step feature engineering process could generate up to 231 features.\n",
            "[AutoFeat] With 1000 data points this new feature matrix would use about 0.00 gb of space.\n",
            "[feateng] Step 1: transformation of original features\n",
            "[feateng] Generated 17 transformed features from 3 original features - done.\n",
            "[feateng] Step 2: first combination of features\n",
            "[feateng] Generated 178 feature combinations from 190 original feature tuples - done.\n",
            "[feateng] Generated altogether 196 new features in 2 steps\n",
            "[feateng] Removing correlated features, as well as additions at the highest level\n",
            "[feateng] Generated a total of 152 additional features\n",
            "[featsel] Scaling data...done.\n",
            "[featsel] Feature selection run 1/5\n",
            "[featsel] Feature selection run 2/5\n",
            "[featsel] Feature selection run 3/5\n",
            "[featsel] Feature selection run 4/5\n",
            "[featsel] Feature selection run 5/5\n",
            "[featsel] 45 features after 5 feature selection runs\n",
            "[featsel] 34 features after correlation filtering\n",
            "[featsel] 19 features after noise filtering\n",
            "[AutoFeat] Computing 17 new features.\n",
            "[AutoFeat]    17/   17 new features ...done.\n",
            "[AutoFeat] Final dataframe with 20 feature columns (17 new).\n",
            "[AutoFeat] Training final regression model.\n",
            "[AutoFeat] Trained model: largest coefficients:\n",
            "140.22421402544532\n",
            "105.520427 * x1**2*log(x1)\n",
            "-59.893244 * 1/sqrt(x1)\n",
            "-50.423669 * x2*log(x1)\n",
            "49.890819 * x3**3*log(x3)\n",
            "-47.014400 * x1\n",
            "41.019435 * x1**3*x2\n",
            "-35.713446 * x2\n",
            "-12.191341 * sqrt(x1)*Abs(x2)\n",
            "11.954521 * x2**2*log(x1)\n",
            "6.887138 * x1**3*x2**2\n",
            "-5.503909 * x2*x3\n",
            "5.266708 * x1*x2**3\n",
            "-2.833463 * x1*exp(x3)\n",
            "1.042636 * x2/x1\n",
            "-0.302648 * x2**2/x1\n",
            "0.246603 * x2**5\n",
            "0.197868 * x2**3/x1\n",
            "-0.072877 * 1/x1\n",
            "0.044027 * log(x3)/x1\n",
            "[AutoFeat] Final score: 0.9469\n",
            "[AutoFeat] Computing 17 new features.\n",
            "[AutoFeat]    17/   17 new features ...done.\n",
            "## Final R^2: 0.9469\n",
            "[AutoFeat] Computing 17 new features.\n",
            "[AutoFeat]    17/   17 new features ...done.\n",
            "### AutoFeat with 3 feateng_steps\n",
            "[AutoFeat] The 3 step feature engineering process could generate up to 5271 features.\n",
            "[AutoFeat] With 1000 data points this new feature matrix would use about 0.02 gb of space.\n",
            "[feateng] Step 1: transformation of original features\n",
            "[feateng] Generated 17 transformed features from 3 original features - done.\n",
            "[feateng] Step 2: first combination of features\n",
            "[feateng] Generated 748 feature combinations from 190 original feature tuples - done.\n",
            "[feateng] Step 3: transformation of new features\n",
            "[feateng] Generated 3412 transformed features from 748 original features - done.\n",
            "[feateng] Generated altogether 4262 new features in 3 steps\n",
            "[feateng] Removing correlated features, as well as additions at the highest level\n",
            "[feateng] Generated a total of 2913 additional features\n",
            "[featsel] Scaling data...done.\n",
            "[featsel] Feature selection run 1/5\n",
            "[featsel] Feature selection run 2/5\n",
            "[featsel] Feature selection run 3/5\n",
            "[featsel] Feature selection run 4/5\n",
            "[featsel] Feature selection run 5/5\n",
            "[featsel] 12 features after 5 feature selection runs\n",
            "[featsel] 6 features after correlation filtering\n",
            "[featsel] 4 features after noise filtering\n",
            "[AutoFeat] Computing 3 new features.\n",
            "[AutoFeat]     3/    3 new features ...done.\n",
            "[AutoFeat] Final dataframe with 6 feature columns (3 new).\n",
            "[AutoFeat] Training final regression model.\n",
            "[AutoFeat] Trained model: largest coefficients:\n",
            "2.0000000000013998\n",
            "15.000000 * x1\n",
            "5.000000 * (x2 + log(x1))**3\n",
            "3.000000 * 1/(x2 - 1/x3)\n",
            "[AutoFeat] Final score: 1.0000\n",
            "[AutoFeat] Computing 3 new features.\n",
            "[AutoFeat]     3/    3 new features ...done.\n",
            "## Final R^2: 1.0000\n",
            "[AutoFeat] Computing 3 new features.\n",
            "[AutoFeat]     3/    3 new features ...done.\n",
            "### AutoFeat with 4 feateng_steps\n",
            "[AutoFeat] The 4 step feature engineering process could generate up to 128751 features.\n",
            "[AutoFeat] With 1000 data points this new feature matrix would use about 0.52 gb of space.\n",
            "[feateng] Step 1: transformation of original features\n",
            "[feateng] Generated 17 transformed features from 3 original features - done.\n",
            "[feateng] Step 2: first combination of features\n",
            "[feateng] Generated 748 feature combinations from 190 original feature tuples - done.\n",
            "[feateng] Step 3: transformation of new features\n",
            "[feateng] Generated 3412 transformed features from 748 original features - done.\n",
            "[feateng] Step 4: combining old and new features\n",
            "[feateng] Generated 78158 feature combinations from 83200 original feature tuples - done.\n",
            "[feateng] Generated altogether 82420 new features in 4 steps\n",
            "[feateng] Removing correlated features, as well as additions at the highest level\n",
            "[feateng] Generated a total of 59859 additional features\n",
            "[featsel] Scaling data...done.\n",
            "[featsel] Feature selection run 1/5\n",
            "[featsel] Feature selection run 2/5\n",
            "[featsel] Feature selection run 3/5\n"
          ],
          "name": "stdout"
        }
      ]
    },
    {
      "cell_type": "markdown",
      "metadata": {
        "id": "pzrnxDj84uh8",
        "colab_type": "text"
      },
      "source": [
        "### AutoFeat and noise"
      ]
    },
    {
      "cell_type": "code",
      "metadata": {
        "id": "jm0d946N4uh9",
        "colab_type": "code",
        "colab": {},
        "outputId": "3811c694-82b8-4907-8a93-35d6206ea054"
      },
      "source": [
        "afreg = AutoFeatRegressor(verbose=1, feateng_steps=3)\n",
        "# train on noisy data\n",
        "df = afreg.fit_transform(df_org, target_noisy)\n",
        "# test on real targets\n",
        "print(\"Final R^2: %.4f\" % afreg.score(df, target))\n",
        "plt.figure()\n",
        "plt.scatter(afreg.predict(df), target, s=2);"
      ],
      "execution_count": 0,
      "outputs": [
        {
          "output_type": "stream",
          "text": [
            "[AutoFeat] The 3 step feature engineering process could generate up to 5271 features.\n",
            "[AutoFeat] With 1000 data points this new feature matrix would use about 0.02 gb of space.\n",
            "[feateng] Step 1: transformation of original features\n",
            "[feateng] Generated 17 transformed features from 3 original features - done.\n",
            "[feateng] Step 2: first combination of features\n",
            "[feateng] Generated 748 feature combinations from 190 original feature tuples - done.\n",
            "[feateng] Step 3: transformation of new features\n",
            "[feateng] Generated 3421 transformed features from 748 original features - done.\n",
            "[feateng] Generated altogether 4262 new features in 3 steps\n",
            "[feateng] Removing correlated features, as well as additions at the highest level\n",
            "[feateng] Generated a total of 2913 additional features\n",
            "[featsel] Scaling data...done.\n",
            "[featsel] Feature selection run 1/5\n",
            "[featsel] Feature selection run 2/5\n",
            "[featsel] Feature selection run 3/5\n",
            "[featsel] Feature selection run 4/5\n",
            "[featsel] Feature selection run 5/5\n",
            "[featsel] 22 features after 5 feature selection runs\n",
            "[featsel] 12 features after correlation filtering\n",
            "[featsel] 8 features after noise filtering\n",
            "[AutoFeat] Computing 7 new features.\n",
            "[AutoFeat]     7/    7 new features ...done.\n",
            "[AutoFeat] Final dataframe with 10 feature columns (7 new).\n",
            "[AutoFeat] Training final regression model.\n",
            "[AutoFeat] Trained model: largest coefficients:\n",
            "2.4459330373268386\n",
            "13.579318 * x1\n",
            "5.000397 * (x2 + log(x1))**3\n",
            "3.004462 * 1/(x2 - 1/x3)\n",
            "0.369925 * log(-x3 + exp(x1))\n",
            "0.291201 * exp(exp(x2)*log(x1))\n",
            "0.158719 * 1/(-x3**3 + 1/x1)\n",
            "0.012836 * log(x1**(7/2))\n",
            "-0.000922 * 1/(exp(x1) + log(x3))\n",
            "[AutoFeat] Final score: 0.9999\n",
            "Final R^2: 1.0000\n"
          ],
          "name": "stdout"
        },
        {
          "output_type": "display_data",
          "data": {
            "image/png": "[encoded data removed]",
            "text/plain": [
              "<Figure size 432x288 with 1 Axes>"
            ]
          },
          "metadata": {
            "tags": [],
            "needs_background": "light"
          }
        }
      ]
    },
    {
      "cell_type": "code",
      "metadata": {
        "id": "v8xpX7oC4uiE",
        "colab_type": "code",
        "colab": {},
        "outputId": "ec65e9d6-2331-4b07-c0f7-589721ed6608"
      },
      "source": [
        "afreg = AutoFeatRegressor(verbose=1, feateng_steps=3)\n",
        "# train on noisy data\n",
        "df = afreg.fit_transform(df_org, target_very_noisy)\n",
        "# test on real targets\n",
        "print(\"Final R^2: %.4f\" % afreg.score(df, target))\n",
        "plt.figure()\n",
        "plt.scatter(afreg.predict(df), target, s=2);"
      ],
      "execution_count": 0,
      "outputs": [
        {
          "output_type": "stream",
          "text": [
            "[AutoFeat] The 3 step feature engineering process could generate up to 5271 features.\n",
            "[AutoFeat] With 1000 data points this new feature matrix would use about 0.02 gb of space.\n",
            "[feateng] Step 1: transformation of original features\n",
            "[feateng] Generated 17 transformed features from 3 original features - done.\n",
            "[feateng] Step 2: first combination of features\n",
            "[feateng] Generated 748 feature combinations from 190 original feature tuples - done.\n",
            "[feateng] Step 3: transformation of new features\n",
            "[feateng] Generated 3421 transformed features from 748 original features - done.\n",
            "[feateng] Generated altogether 4262 new features in 3 steps\n",
            "[feateng] Removing correlated features, as well as additions at the highest level\n",
            "[feateng] Generated a total of 2913 additional features\n",
            "[featsel] Scaling data...done.\n",
            "[featsel] Feature selection run 1/5\n",
            "[featsel] Feature selection run 2/5\n",
            "[featsel] Feature selection run 3/5\n",
            "[featsel] Feature selection run 4/5\n",
            "[featsel] Feature selection run 5/5\n",
            "[featsel] 19 features after 5 feature selection runs\n",
            "[featsel] 12 features after correlation filtering\n",
            "[featsel] 10 features after noise filtering\n",
            "[AutoFeat] Computing 9 new features.\n",
            "[AutoFeat]     9/    9 new features ...done.\n",
            "[AutoFeat] Final dataframe with 12 feature columns (9 new).\n",
            "[AutoFeat] Training final regression model.\n",
            "[AutoFeat] Trained model: largest coefficients:\n",
            "4.007104744539731\n",
            "7.825614 * x1\n",
            "4.950884 * (x2 + log(x1))**3\n",
            "2.926836 * 1/(x2 - 1/x3)\n",
            "-1.198338 * log(x3**3 - log(x1))\n",
            "-0.813393 * 1/(-exp(x2) + log(x1))\n",
            "-0.395559 * Abs(x2*log(x1))\n",
            "-0.006558 * 1/(x2*log(x3))\n",
            "0.002161 * (-x2**2 + log(x1))**3\n",
            "0.001388 * 1/(-exp(x2) + 1/x1)\n",
            "[AutoFeat] Final score: 0.9901\n",
            "Final R^2: 0.9997\n"
          ],
          "name": "stdout"
        },
        {
          "output_type": "display_data",
          "data": {
            "image/png": "[encoded data removed]",
            "text/plain": [
              "<Figure size 432x288 with 1 Axes>"
            ]
          },
          "metadata": {
            "tags": [],
            "needs_background": "light"
          }
        }
      ]
    },
    {
      "cell_type": "code",
      "metadata": {
        "id": "j-RMLCiR4uiI",
        "colab_type": "code",
        "colab": {}
      },
      "source": [
        ""
      ],
      "execution_count": 0,
      "outputs": []
    }
  ]
}